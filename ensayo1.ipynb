{
  "nbformat": 4,
  "nbformat_minor": 0,
  "metadata": {
    "colab": {
      "name": "ensayo1.ipynb",
      "provenance": [],
      "include_colab_link": true
    },
    "kernelspec": {
      "name": "python3",
      "display_name": "Python 3"
    }
  },
  "cells": [
    {
      "cell_type": "markdown",
      "metadata": {
        "id": "view-in-github",
        "colab_type": "text"
      },
      "source": [
        "<a href=\"https://colab.research.google.com/github/GERARDROD/Treball-de-recerca-2019/blob/master/ensayo1.ipynb\" target=\"_parent\"><img src=\"https://colab.research.google.com/assets/colab-badge.svg\" alt=\"Open In Colab\"/></a>"
      ]
    },
    {
      "cell_type": "code",
      "metadata": {
        "id": "btywO3rrYaqu",
        "colab_type": "code",
        "colab": {
          "base_uri": "https://localhost:8080/",
          "height": 68
        },
        "outputId": "e48e091b-7a07-4eed-d03d-04944bc9552d"
      },
      "source": [
        "import pandas as pd\n",
        "Df=pd.read_csv('responses.csv')\n",
        "print(len(Df.index))\n",
        "print(df.shape)\n",
        "df=Df.sample(frac=0.001)\n",
        "df=df.reset_index(drop=True)\n",
        "print(df.shape)\n",
        "\n"
      ],
      "execution_count": 18,
      "outputs": [
        {
          "output_type": "stream",
          "text": [
            "1010\n",
            "(1, 150)\n",
            "(1, 150)\n"
          ],
          "name": "stdout"
        }
      ]
    }
  ]
}